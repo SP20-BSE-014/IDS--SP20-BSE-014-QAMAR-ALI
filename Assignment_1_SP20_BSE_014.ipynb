{
  "nbformat": 4,
  "nbformat_minor": 0,
  "metadata": {
    "colab": {
      "provenance": []
    },
    "kernelspec": {
      "name": "python3",
      "display_name": "Python 3"
    },
    "language_info": {
      "name": "python"
    }
  },
  "cells": [
    {
      "cell_type": "code",
      "execution_count": null,
      "metadata": {
        "id": "jcXcukPW6_Hs"
      },
      "outputs": [],
      "source": [
        "# 18/9/2023\n",
        "# CSC461 – Assignment1 – Web Scraping\n",
        "# Qamar Ali\n",
        "# SP20-BSE-014\n",
        "# CreatING a web scraper in Python to extract the ‘title’ and ‘rating’ for 5 of your most favorite movies from the IMDB website. In order to do this, you must create a list (array) of movie URLs\n",
        "# and iterate through the list to scrape (all IMDB movie pages have the same format) the required information for each movie. Once you have all the information you need, export the data to an excel file."
      ]
    },
    {
      "cell_type": "code",
      "source": [
        "import requests\n",
        "from bs4 import BeautifulSoup\n",
        "import pandas as pd\n",
        "import time\n",
        "# Create a list of movie URLs\n",
        "# Set the proxy server\n",
        "proxy = \"127.0.0.1:8080\"\n",
        "# Set the delay between requests\n",
        "delay = 1\n",
        "movie_urls = [\n",
        "    \"https://www.imdb.com/title/tt0111161/\", #The Shawshank Redemption\n",
        "    \"https://www.imdb.com/title/tt0068646/\", #The Godfather\n",
        "    \"https://www.imdb.com/title/tt0071562/\", #The Godfather Part II\n",
        "    \"https://www.imdb.com/title/tt0468569/\", #The Dark Knight\n",
        "    \"https://www.imdb.com/title/tt0050083/\", #12 Angry Men\n",
        "]\n",
        "# Create a list to store the movie titles and ratings\n",
        "movie_data = []\n",
        "# Iterate through the list of movie URLs\n",
        "\n",
        "\n",
        "for movie_url in movie_urls:\n",
        "    # Fetch the webpage\n",
        "    response = requests.get(movie_url)\n",
        "    # Sleep for 1 second\n",
        "    time.sleep(1)\n",
        "    # Parse the HTML\n",
        "    soup = BeautifulSoup(response.content, \"html.parser\")\n",
        "    # Get the movie title\n",
        "    title = soup.find(\"h1\").text\n",
        "    print(title)\n",
        "    # Find the element that contains the rating\n",
        "    rating_element = soup.select_one(\"sc-bde20123-1 iZlgcd\")\n",
        "    # Get the text content of the element\n",
        "    rating = rating_element.text,\n",
        "    # Print the rating\n",
        "    print(rating)\n",
        "    # Add the movie title and rating to the list\n",
        "    movie_data.append([title, rating])\n",
        "    # Create a Pandas DataFrame from the list of movie data\n",
        "    df = pd.DataFrame(movie_data, columns=[\"Title\", \"Rating\"])\n",
        "    # Export the DataFrame to an Excel file\n",
        "    df.to_excel(\"favorite_movies.xlsx\", index=False)\n"
      ],
      "metadata": {
        "id": "Im-HgOJlzuK1"
      },
      "execution_count": null,
      "outputs": []
    },
    {
      "cell_type": "markdown",
      "source": [],
      "metadata": {
        "id": "fp7q19UvFvnc"
      }
    },
    {
      "cell_type": "code",
      "execution_count": null,
      "metadata": {
        "id": "N1ro6nTuFv92"
      },
      "outputs": [],
      "source": [
        "# 18/9/2023\n",
        "# CSC461 – Assignment1 – Web Scraping\n",
        "# Qamar Ali\n",
        "# SP20-BSE-014\n",
        "# Following are two websites that list historical events happened on a specific date.\n",
        "#• https://www.timeanddate.com/on-this-day\n",
        "#• https://www.britannica.com/on-this-day\n",
        "#Your job is to write a web scraper in Python (preferably a Jupyter Notebook) to extract the below mentioned\n",
        "#information.\n",
        "#1. From the ‘timeanddate’ website, find out who you share your birthdate with?\n",
        "#2. From the ‘britannica’ website, find out which important event(s) happened on your birthdate?\n",
        "#Once you have all the information, write it to a text file with proper indentation/formatting"
      ]
    },
    {
      "cell_type": "code",
      "source": [],
      "metadata": {
        "id": "xthFnK7SFwxb"
      },
      "execution_count": null,
      "outputs": []
    },
    {
      "cell_type": "code",
      "source": [
        "import requests\n",
        "from bs4 import BeautifulSoup\n",
        "\n",
        "def get_birthdate_info_timeanddate(date):\n",
        "    url = f'https://www.timeanddate.com/on-this-day/{date}'\n",
        "    response = requests.get(url)\n",
        "    soup = BeautifulSoup(response.content, 'html.parser')\n",
        "\n",
        "    section = soup.find('div', class_='otd-title')\n",
        "\n",
        "    # Extract the people who share your birthdate\n",
        "    birthdate_info = []\n",
        "    for item in section.find_all('h3'):\n",
        "        birthdate_info.append(item.get_text(strip=True))\n",
        "\n",
        "    return birthdate_info\n",
        "\n",
        "# Function to scrape 'britannica' website for important events on your birthdate\n",
        "def get_birthdate_info_britannica(date):\n",
        "    url = f'https://www.britannica.com/on-this-day{date}'\n",
        "    response = requests.get(url)\n",
        "    soup = BeautifulSoup(response.content, 'html.parser')\n",
        "\n",
        "    # Find the section containing the information\n",
        "    section = soup.find('div', class_='otd-featured-event col-100 col-sm-50')\n",
        "\n",
        "    # Extract the important events\n",
        "    birthdate_info = []\n",
        "    for item in section.find_all('h2'):\n",
        "        birthdate_info.append(item.get_text(strip=True))\n",
        "\n",
        "    return birthdate_info\n",
        "\n",
        "birthdate = '2001-06-06'\n",
        "# Getting the information from both websites\n",
        "timeanddate_info = get_birthdate_info_timeanddate(birthdate)\n",
        "britannica_info = get_birthdate_info_britannica(birthdate)\n",
        "\n",
        "# Writing the information to a text file\n",
        "with open('birthdate_info.txt', 'w', encoding='utf-8') as file:\n",
        "    file.write(f'Birthdate Information for {birthdate}:\\n\\n')\n",
        "\n",
        "    file.write('From timeanddate.com:\\n')\n",
        "    for item in timeanddate_info:\n",
        "        file.write(f'- {item}\\n')\n",
        "    file.write('\\n')\n",
        "\n",
        "    file.write('From britannica.com:\\n')\n",
        "    for item in britannica_info:\n",
        "        file.write(f'- {item}\\n')\n",
        "\n",
        "\n"
      ],
      "metadata": {
        "id": "JsHgsi7A_9PP"
      },
      "execution_count": null,
      "outputs": []
    }
  ]
}