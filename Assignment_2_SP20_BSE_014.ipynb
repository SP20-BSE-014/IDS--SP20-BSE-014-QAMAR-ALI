{
  "nbformat": 4,
  "nbformat_minor": 0,
  "metadata": {
    "colab": {
      "provenance": []
    },
    "kernelspec": {
      "name": "python3",
      "display_name": "Python 3"
    },
    "language_info": {
      "name": "python"
    }
  },
  "cells": [
    {
      "cell_type": "code",
      "source": [
        "# 30/9/2023\n",
        "# CSC461 – Assignment2 – Regular Expressions\n",
        "# QAMAR ALI\n",
        "# CIIT/SP20-BSE-014/LHR\n",
        "# SECTION: FA21-BSE-C\n",
        "# Solving the given tasks by using regular expressions."
      ],
      "metadata": {
        "id": "tGdVaOHh_5l-"
      },
      "execution_count": null,
      "outputs": []
    },
    {
      "cell_type": "code",
      "execution_count": null,
      "metadata": {
        "id": "Lkugs7mpy6Ji"
      },
      "outputs": [],
      "source": [
        "from google.colab import drive\n",
        "drive.mount('/content/drive')\n",
        "with open('/content/drive/My Drive/example.txt', 'r') as f:\n",
        "    text = f.read()\n",
        "\n",
        ""
      ]
    },
    {
      "cell_type": "code",
      "source": [
        "#1-Extract list of all words.\n",
        "    words = re.findall(r'\\b\\w+\\b',text)\n",
        "    for word in words:\n",
        "        print(word)"
      ],
      "metadata": {
        "id": "dNvxikjK7Lfe"
      },
      "execution_count": null,
      "outputs": []
    },
    {
      "cell_type": "code",
      "source": [
        "#2-Extract list of all words starting with a capital letter.\n",
        "capital_words = re.findall(r'\\b[A-Z][a-z]*\\b', text)\n",
        "for capital_words in capital_words:\n",
        "        print(capital_words)\n"
      ],
      "metadata": {
        "id": "aQsjDzFJ5mFZ"
      },
      "execution_count": null,
      "outputs": []
    },
    {
      "cell_type": "code",
      "source": [
        "#3-Extract list of all words of length 5\n",
        "five_letter_words = re.findall(r'\\b\\w{5}\\b', text)\n",
        "for five_letter_words in five_letter_words:\n",
        "        print(five_letter_words)\n"
      ],
      "metadata": {
        "id": "r5K5KjSz6buj"
      },
      "execution_count": null,
      "outputs": []
    },
    {
      "cell_type": "code",
      "source": [
        "#4-Extract list of all words inside double quotes\n",
        "quoted_words = re.findall(r'\"([^\"]*)\"', text)\n",
        "for quoted_words in quoted_words:\n",
        "        print(quoted_words)\n",
        "\n"
      ],
      "metadata": {
        "id": "gZeCdm5S7BDH"
      },
      "execution_count": null,
      "outputs": []
    },
    {
      "cell_type": "code",
      "source": [
        "#5-Extract list of all vowels\n",
        "vowels = re.findall(r'[aeiouAEIOU]', text)\n",
        "print(\"Vowels:\", vowels)"
      ],
      "metadata": {
        "id": "avPBVFEe7mVT"
      },
      "execution_count": null,
      "outputs": []
    },
    {
      "cell_type": "code",
      "source": [
        "#6-Extract list of 3 letter words ending with letter ‘e’.\n",
        "three_letter_e_words = re.findall(r'\\b\\w{3}e\\b', text)\n",
        "print(\"three_letter_e_words:\",three_letter_e_words)"
      ],
      "metadata": {
        "id": "F2OJH6-S9NgO"
      },
      "execution_count": null,
      "outputs": []
    },
    {
      "cell_type": "code",
      "source": [
        "#7-Extract list of all words starting and ending with letter ‘b’\n",
        "b_words = re.findall(r'\\b[bB]\\w*[bB]\\b', text)\n",
        "print(\"b_words:\",b_words)"
      ],
      "metadata": {
        "id": "qEKfsCEa9jF4"
      },
      "execution_count": null,
      "outputs": []
    },
    {
      "cell_type": "code",
      "source": [
        "#8-Remove all the punctuation marks from the text.\n",
        "text_no_punctuation = re.sub(r'[^\\w\\s]', '', text)\n",
        "print(\"text_no_punctuation:\",text_no_punctuation)\n"
      ],
      "metadata": {
        "id": "Z-poEo0n9-Fd"
      },
      "execution_count": null,
      "outputs": []
    },
    {
      "cell_type": "code",
      "source": [
        "#9-Replace all words ending ‘n't’ to their full form ‘not’.\n",
        "text_replaced = re.sub(r\"n't\\b\", \"not\", text_no_punctuation)\n",
        "print(\"Text with 'n't' replaced:\", text_replaced)"
      ],
      "metadata": {
        "id": "EeSoFxXd-X9-"
      },
      "execution_count": null,
      "outputs": []
    },
    {
      "cell_type": "code",
      "source": [
        "#10-Replace all the new lines with a single space\n",
        "text_single_space = re.sub(r'\\n', ' ', text_replaced)\n",
        "print(\"Text with new lines replaced:\", text_single_space)"
      ],
      "metadata": {
        "id": "lvdiS3uR-8Ug"
      },
      "execution_count": null,
      "outputs": []
    }
  ]
}