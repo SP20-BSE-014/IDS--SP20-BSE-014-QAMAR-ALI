{
  "nbformat": 4,
  "nbformat_minor": 0,
  "metadata": {
    "colab": {
      "provenance": []
    },
    "kernelspec": {
      "name": "python3",
      "display_name": "Python 3"
    },
    "language_info": {
      "name": "python"
    }
  },
  "cells": [
    {
      "cell_type": "code",
      "source": [
        "# 30/9/2023\n",
        "# CSC461 – Assignment2 – Regular Expressions\n",
        "# QAMAR ALI\n",
        "# CIIT/SP20-BSE-014/LHR\n",
        "# SECTION: FA21-BSE-C\n",
        "# Solving the given tasks by using regular expressions."
      ],
      "metadata": {
        "id": "tGdVaOHh_5l-"
      },
      "execution_count": null,
      "outputs": []
    },
    {
      "cell_type": "code",
      "execution_count": null,
      "metadata": {
        "id": "Lkugs7mpy6Ji",
        "colab": {
          "base_uri": "https://localhost:8080/"
        },
        "outputId": "afdb1d37-eebd-4a1e-d31c-548059e22e6b"
      },
      "outputs": [
        {
          "output_type": "stream",
          "name": "stdout",
          "text": [
            "Drive already mounted at /content/drive; to attempt to forcibly remount, call drive.mount(\"/content/drive\", force_remount=True).\n"
          ]
        }
      ],
      "source": [
        "from google.colab import drive\n",
        "drive.mount('/content/drive')\n",
        "with open('/content/drive/My Drive/example-text.txt', 'r') as f:\n",
        "    text = f.read()\n",
        "\n"
      ]
    },
    {
      "cell_type": "code",
      "source": [
        "#1-Extract list of all words.\n",
        "import re\n",
        "words = re.findall(r'\\b\\w+\\b',text)\n",
        "for word in words:\n",
        "  print(word)"
      ],
      "metadata": {
        "id": "dNvxikjK7Lfe"
      },
      "execution_count": null,
      "outputs": []
    },
    {
      "cell_type": "code",
      "source": [
        "#2-Extract list of all words starting with a capital letter.\n",
        "capital_words = re.findall(r'\\b[A-Z][a-z]*\\b', text)\n",
        "for capital_words in capital_words:\n",
        "        print(capital_words)\n"
      ],
      "metadata": {
        "id": "aQsjDzFJ5mFZ"
      },
      "execution_count": null,
      "outputs": []
    },
    {
      "cell_type": "code",
      "source": [
        "#3-Extract list of all words of length 5\n",
        "five_letter_words = re.findall(r'\\b\\w{5}\\b', text)\n",
        "for five_letter_words in five_letter_words:\n",
        "        print(five_letter_words)\n"
      ],
      "metadata": {
        "id": "r5K5KjSz6buj"
      },
      "execution_count": null,
      "outputs": []
    },
    {
      "cell_type": "code",
      "source": [
        "#4-Extract list of all words inside double quotes\n",
        "quoted_words = re.findall(r'\"([^\"]*)\"', text)\n",
        "for quoted_words in quoted_words:\n",
        "        print(quoted_words)\n",
        "\n"
      ],
      "metadata": {
        "id": "gZeCdm5S7BDH",
        "colab": {
          "base_uri": "https://localhost:8080/"
        },
        "outputId": "481b64e9-7d98-4c01-cc81-1744cdf602b2"
      },
      "execution_count": 14,
      "outputs": [
        {
          "output_type": "stream",
          "name": "stdout",
          "text": [
            "If only Casey could but get a whack at that--\n",
            "We'd put up even money now, with Casey at the bat.\n",
            "That ain't my style,\n",
            "Strike one!\n",
            "Kill him! Kill the umpire!\n",
            "Strike two!\n",
            "Fraud!\n",
            "Fraud!\n"
          ]
        }
      ]
    },
    {
      "cell_type": "code",
      "source": [
        "#5-Extract list of all vowels\n",
        "vowels = re.findall(r'[aeiouAEIOU]', text)\n",
        "print(\"Vowels:\", vowels)"
      ],
      "metadata": {
        "id": "avPBVFEe7mVT",
        "colab": {
          "base_uri": "https://localhost:8080/"
        },
        "outputId": "2afd450c-3f08-4396-8ff3-6b3e4f47895e"
      },
      "execution_count": 15,
      "outputs": [
        {
          "output_type": "stream",
          "name": "stdout",
          "text": [
            "Vowels: ['e', 'o', 'u', 'o', 'o', 'a', 'i', 'i', 'a', 'o', 'e', 'u', 'i', 'e', 'i', 'e', 'a', 'a', 'e', 'o', 'e', 'o', 'o', 'o', 'u', 'o', 'o', 'i', 'u', 'o', 'e', 'i', 'i', 'o', 'e', 'o', 'a', 'A', 'e', 'e', 'o', 'o', 'e', 'i', 'e', 'a', 'i', 'a', 'a', 'o', 'i', 'e', 'a', 'e', 'A', 'a', 'i', 'e', 'i', 'e', 'e', 'e', 'u', 'o', 'e', 'a', 'o', 'o', 'e', 'a', 'e', 'A', 'a', 'i', 'e', 'o', 'u', 'o', 'o', 'i', 'e', 'e', 'e', 'a', 'i', 'e', 'e', 'u', 'o', 'a', 'o', 'e', 'i', 'i', 'e', 'e', 'a', 'i', 'e', 'u', 'a', 'e', 'a', 'e', 'o', 'u', 'I', 'o', 'a', 'e', 'o', 'u', 'u', 'e', 'a', 'a', 'a', 'a', 'e', 'u', 'u', 'e', 'e', 'o', 'e', 'o', 'i', 'a', 'e', 'a', 'e', 'a', 'u', 'e', 'e', 'e', 'a', 'e', 'a', 'i', 'a', 'o', 'i', 'a', 'e', 'A', 'e', 'o', 'e', 'a', 'a', 'u', 'u', 'i', 'e', 'e', 'a', 'e', 'a', 'a', 'a', 'e', 'o', 'u', 'o', 'a', 'i', 'e', 'u', 'i', 'u', 'e', 'i', 'e', 'a', 'o', 'a', 'o', 'e', 'e', 'e', 'e', 'e', 'u', 'i', 'e', 'a', 'e', 'o', 'a', 'e', 'e', 'i', 'o', 'e', 'a', 'u', 'e', 'i', 'e', 'a', 'i', 'e', 'o', 'e', 'o', 'e', 'e', 'o', 'a', 'A', 'a', 'e', 'e', 'u', 'e', 'i', 'e', 'o', 'e', 'e', 'o', 'e', 'o', 'e', 'a', 'A', 'e', 'e', 'u', 'a', 'i', 'e', 'a', 'e', 'a', 'a', 'a', 'o', 'u', 'e', 'e', 'e', 'a', 'i', 'a', 'e', 'a', 'e', 'o', 'a', 'a', 'u', 'i', 'i', 'e', 'o', 'i', 'e', 'o', 'u', 'a', 'o', 'a', 'a', 'o', 'e', 'e', 'e', 'o', 'e', 'a', 'u', 'e', 'I', 'u', 'e', 'o', 'u', 'e', 'a', 'e', 'i', 'a', 'e', 'i', 'e', 'e', 'I', 'o', 'u', 'e', 'o', 'e', 'o', 'u', 'a', 'i', 'a', 'e', 'o', 'i', 'e', 'u', 'o', 'e', 'a', 'o', 'a', 'e', 'i', 'a', 'e', 'a', 'a', 'a', 'i', 'o', 'e', 'a', 'e', 'e', 'a', 'e', 'a', 'e', 'i', 'a', 'e', 'a', 'e', 'a', 'e', 'e', 'e', 'i', 'o', 'i', 'a', 'e', 'e', 'e', 'a', 'i', 'e', 'i', 'a', 'e', 'e', 'a', 'i', 'a', 'a', 'i', 'e', 'i', 'a', 'e', 'a', 'e', 'A', 'e', 'e', 'o', 'i', 'o', 'e', 'e', 'e', 'e', 'i', 'o', 'e', 'i', 'a', 'o', 'a', 'e', 'i', 'e', 'o', 'o', 'u', 'o', 'u', 'a', 'a', 'e', 'a', 'e', 'a', 'e', 'o', 'u', 'a', 'e', 'e', 'e', 'e', 'o', 'i', 'a', 'e', 'u', 'e', 'i', 'a', 'i', 'i', 'i', 'e', 'o', 'u', 'a', 'o', 'u', 'e', 'a', 'a', 'u', 'e', 'e', 'e', 'i', 'e', 'e', 'o', 'i', 'i', 'e', 'i', 'e', 'e', 'i', 'i', 'i', 'e', 'o', 'u', 'e', 'a', 'i', 'o', 'i', 'i', 'e', 'i', 'a', 'e', 'a', 'e', 'i', 'a', 'e', 'e', 'e', 'a', 'e', 'e', 'u', 'e', 'a', 'e', 'i', 'A', 'o', 'e', 'e', 'a', 'e', 'o', 'e', 'e', 'e', 'e', 'a', 'e', 'u', 'i', 'o', 'u', 'e', 'a', 'i', 'A', 'a', 'e', 'o', 'o', 'a', 'a', 'i', 'i', 'i', 'a', 'u', 'a', 'e', 'u', 'e', 'e', 'o', 'e', 'e', 'u', 'a', 'a', 'e', 'a', 'u', 'e', 'e', 'e', 'e', 'a', 'a', 'i', 'e', 'a', 'i', 'a', 'e', 'i', 'e', 'o', 'e', 'e', 'u', 'i', 'e', 'a', 'i', 'o', 'e', 'e', 'e', 'a', 'i', 'e', 'o', 'e', 'e', 'e', 'e', 'u', 'a', 'u', 'e', 'o', 'a', 'i', 'e', 'e', 'e', 'a', 'i', 'o', 'e', 'o', 'a', 'e', 'o', 'a', 'e', 'a', 'i', 'a', 'o', 'e', 'i', 'i', 'i', 'e', 'u', 'i', 'e', 'o', 'u', 'e', 'o', 'e', 'o', 'e', 'o', 'e', 'a', 'A', 'i', 'i', 'e', 'e', 'a', 'e', 'i', 'e', 'i', 'a', 'o', 'a', 'e', 'a', 'i', 'e', 'i', 'a', 'i', 'a', 'i', 'e', 'o', 'i', 'i', 'a', 'a', 'i', 'e', 'a', 'a', 'e', 'i', 'a', 'e', 'o', 'e', 'e', 'i', 'e', 'e', 'i', 'i', 'u', 'u', 'e', 'a', 'e', 'e', 'a', 'e', 'o', 'o', 'e', 'i', 'a', 'e', 'o', 'e', 'i', 'e', 'a', 'o', 'e', 'o', 'e', 'e', 'u', 'e', 'e', 'e', 'u', 'a', 'e', 'i', 'i', 'o', 'e', 'i', 'a', 'e', 'u', 'i', 'e', 'a', 'i', 'i', 'e', 'o', 'a', 'u', 'i', 'e', 'e', 'a', 'e', 'e', 'o', 'u', 'a', 'a', 'e', 'o', 'a', 'e', 'e', 'a', 'u', 'u', 'o', 'e', 'o', 'u', 'o', 'o', 'o', 'a', 'e', 'a', 'e', 'a', 'u', 'i', 'e', 'e', 'a', 'a', 'e', 'e', 'a', 'i', 'a', 'e', 'o', 'e', 'a', 'o', 'e', 'a', 'i', 'u', 'e', 'a', 'i', 'A', 'e', 'e', 'a', 'a', 'e', 'o', 'u', 'e', 'a', 'a', 'o', 'a', 'a', 'i', 'e', 'e', 'e', 'a', 'e', 'o', 'a', 'e', 'i', 'i', 'e', 'e', 'a', 'e', 'e', 'e', 'i', 'a', 'e', 'e', 'o', 'u', 'i', 'u', 'e', 'i', 'o', 'e', 'e', 'i', 'a', 'u', 'o', 'e', 'a', 'e', 'A', 'o', 'e', 'i', 'e', 'o', 'e', 'a', 'a', 'o', 'e', 'e', 'i', 'o', 'A', 'o', 'e', 'a', 'i', 'i', 'a', 'e', 'e', 'e', 'o', 'e', 'o', 'a', 'e', 'o', 'O', 'o', 'e', 'e', 'e', 'i', 'i', 'a', 'o', 'e', 'a', 'e', 'u', 'i', 'i', 'i', 'i', 'e', 'a', 'i', 'a', 'i', 'o', 'e', 'e', 'e', 'a', 'o', 'e', 'e', 'e', 'e', 'a', 'a', 'e', 'i', 'A', 'o', 'e', 'e', 'e', 'e', 'a', 'e', 'a', 'u', 'i', 'a', 'i', 'e', 'i', 'e', 'o', 'u', 'u', 'e', 'e', 'i', 'o', 'o', 'i', 'u', 'i', 'e', 'e', 'a', 'a', 'e', 'a', 'u', 'o', 'u']\n"
          ]
        }
      ]
    },
    {
      "cell_type": "code",
      "source": [
        "#6-Extract list of 3 letter words ending with letter ‘e’.\n",
        "three_letter_e_words = re.findall(r'\\b\\w{3}e\\b', text)\n",
        "print(\"three_letter_e_words:\",three_letter_e_words)"
      ],
      "metadata": {
        "id": "F2OJH6-S9NgO",
        "colab": {
          "base_uri": "https://localhost:8080/"
        },
        "outputId": "0af477d5-c56c-4b20-e9c3-950afd259ba0"
      },
      "execution_count": 16,
      "outputs": [
        {
          "output_type": "stream",
          "name": "stdout",
          "text": [
            "three_letter_e_words: ['nine', 'more', 'same', 'like', 'game', 'hope', 'cake', 'tore', 'safe', 'five', 'more', 'rose', 'ease', 'face', 'were', 'Five', 'came', 'Like', 'some', 'have', 'bade', 'game', 'once', 'more', 'face', 'hate']\n"
          ]
        }
      ]
    },
    {
      "cell_type": "code",
      "source": [
        "#7-Extract list of all words starting and ending with letter ‘b’\n",
        "b_words = re.findall(r'\\b[bB]\\w*[bB]\\b', text)\n",
        "print(\"b_words:\",b_words)"
      ],
      "metadata": {
        "id": "qEKfsCEa9jF4",
        "colab": {
          "base_uri": "https://localhost:8080/"
        },
        "outputId": "9c1b5755-506d-40ad-809d-1b79aacae8cf"
      },
      "execution_count": 17,
      "outputs": [
        {
          "output_type": "stream",
          "name": "stdout",
          "text": [
            "b_words: []\n"
          ]
        }
      ]
    },
    {
      "cell_type": "code",
      "source": [
        "#8-Remove all the punctuation marks from the text.\n",
        "text_no_punctuation = re.sub(r'[^\\w\\s]', '', text)\n",
        "print(\"text_no_punctuation:\",text_no_punctuation)\n"
      ],
      "metadata": {
        "id": "Z-poEo0n9-Fd",
        "colab": {
          "base_uri": "https://localhost:8080/"
        },
        "outputId": "83822310-ea5f-4211-b95e-32a2945f7eed"
      },
      "execution_count": 18,
      "outputs": [
        {
          "output_type": "stream",
          "name": "stdout",
          "text": [
            "text_no_punctuation: The outlook wasnt brilliant for the Mudville nine that day \n",
            "The score stood four to two with but one inning more to play\n",
            "And then when Cooney died at first and Barrows did the same\n",
            "A palllike silence fell upon the patrons of the game \n",
            "\n",
            "A straggling few got up to go in deep despair The rest\n",
            "Clung to that hope which springs eternal in the human breast\n",
            "They thought If only Casey could but get a whack at that\n",
            "Wed put up even money now with Casey at the bat \n",
            "\n",
            "But Flynn preceded Casey as did also Jimmy Blake\n",
            "And the former was a lulu while the latter was a cake\n",
            "So upon that stricken multitude grim melancholy sat\n",
            "For there seemed but little chance of Casey getting to the bat\n",
            "\n",
            "But Flynn let drive a single to the wonderment of all\n",
            "And Blake the much despised tore the cover off the ball\n",
            "And when the dust had lifted and men saw what had occurred\n",
            "There was Jimmy safe at second and Flynn ahugging third \n",
            "\n",
            "Then from five thousand throats and more there rose a lusty yell\n",
            "It rumbled through the valley it rattled in the dell\n",
            "It pounded on the mountain and recoiled upon the flat\n",
            "For Casey mighty Casey was advancing to the bat \n",
            "\n",
            "There was ease in Caseys manner as he stepped into his place\n",
            "There was pride in Caseys bearing and a smile lit Caseys face\n",
            "And when responding to the cheers he lightly doffed his hat\n",
            "No stranger in the crowd could doubt twas Casey at the bat \n",
            "\n",
            "Ten thousand eyes were on him as he rubbed his hands with dirt\n",
            "Five thousand tongues applauded when he wiped them on his shirt\n",
            "Then while the writhing pitcher ground the ball into his hip\n",
            "Defiance flashed in Caseys eye a sneer curled Caseys lip \n",
            "\n",
            "And now the leathercovered sphere came hurtling through the air\n",
            "And Casey stood awatching it in haughty grandeur there\n",
            "Close by the sturdy batsman the ball unheeded sped\n",
            "That aint my style said Casey Strike one the umpire said \n",
            "\n",
            "From the benches black with people there went up a muffled roar\n",
            "Like the beating of the stormwaves on a stern and distant shore\n",
            "Kill him Kill the umpire shouted some one on the stand\n",
            "And its likely theyd have killed him had not Casey raised his hand \n",
            "\n",
            "With a smile of Christian charity great Caseys visage shone\n",
            "He stilled the rising tumult he bade the game go on\n",
            "He signaled to the pitcher and once more the dun sphere flew\n",
            "But Casey still ignored it and the umpire said Strike two \n",
            "\n",
            "Fraud cried the maddened thousands and echo answered Fraud\n",
            "But one scornful look from Casey and the audience was awed\n",
            "They saw his face grow stern and cold they saw his muscles strain\n",
            "And they knew that Casey wouldnt let that ball go by again \n",
            "\n",
            "The sneer has fled from Caseys lip his teeth are clenched in hate\n",
            "He pounds with cruel violence his bat upon the plate\n",
            "And now the pitcher holds the ball and now he lets it go\n",
            "And now the air is shattered by the force of Caseys blow \n",
            "\n",
            "Oh somewhere in this favored land the sun is shining bright\n",
            "The band is playing somewhere and somewhere hearts are light\n",
            "And somewhere men are laughing and little children shout\n",
            "But there is no joy in Mudvillegreat Casey has struck out\n",
            "\n"
          ]
        }
      ]
    },
    {
      "cell_type": "code",
      "source": [
        "#9-Replace all words ending ‘n't’ to their full form ‘not’.\n",
        "text_replaced = re.sub(r\"n't\\b\", \"not\", text_no_punctuation)\n",
        "print(\"Text with 'n't' replaced:\", text_replaced)"
      ],
      "metadata": {
        "id": "EeSoFxXd-X9-"
      },
      "execution_count": null,
      "outputs": []
    },
    {
      "cell_type": "code",
      "source": [
        "#10-Replace all the new lines with a single space\n",
        "text_single_space = re.sub(r'\\n', ' ', text_replaced)\n",
        "print(\"Text with new lines replaced:\", text_single_space)"
      ],
      "metadata": {
        "id": "lvdiS3uR-8Ug"
      },
      "execution_count": null,
      "outputs": []
    }
  ]
}